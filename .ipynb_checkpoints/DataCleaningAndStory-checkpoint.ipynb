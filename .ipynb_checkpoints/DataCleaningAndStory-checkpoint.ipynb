{
 "cells": [
  {
   "cell_type": "markdown",
   "metadata": {},
   "source": [
    "# 0. Imports and Data Reading"
   ]
  },
  {
   "cell_type": "code",
   "execution_count": 1,
   "metadata": {},
   "outputs": [],
   "source": [
    "#Imports\n",
    "import pandas as pd\n",
    "import numpy as np\n",
    "import matplotlib.pyplot as plt\n",
    "import seaborn as sns\n",
    "from scipy import stats\n",
    "\n",
    "#Get data\n",
    "dfcrime=pd.read_csv('./CrimeData/Crime.csv')\n",
    "dfcensus=pd.read_csv('./CrimeData/2010CensusPDX.csv')"
   ]
  },
  {
   "cell_type": "markdown",
   "metadata": {},
   "source": [
    "# 1. Data Wrangling\n",
    "\n",
    "## 1.1. Crime Stats Cleaning\n",
    "\n",
    "### The crime data must be restricted to crime reported in 2015. Many columns irrelevent to the interest of this analysis will be removed. Also, removed are any crime reports which have no location identification. The remaining crime reports will be assigned a neighborhood based on the longitude and latitude of the crime. Crime reports with neighborhood identification but no latitude and longitude will be assigned lattitude and longitude equal to the centroid of the reported locations from that neighborhood."
   ]
  },
  {
   "cell_type": "code",
   "execution_count": 2,
   "metadata": {},
   "outputs": [],
   "source": [
    "#Slice only 2015 crime data\n",
    "df_crime_2015=dfcrime.loc[dfcrime['Occur Date'].str.endswith('/15')]\n",
    "df_crime_2015.head()\n",
    "\n",
    "#Remove columns not needed\n",
    "df_crime_2015.columns\n",
    "drop_list=['Address','Case Number', 'Number of Records', 'Occur Month Year', 'Open Data X',\n",
    "           'Open Data Y','Report Month Year','Offense Type', 'Report Date']\n",
    "df_crime=df_crime_2015.drop(drop_list, axis=1)\n",
    "df_crime=df_crime.reset_index(drop=True)\n",
    "\n",
    "# Reorder columns putting identifiers first and crime info last\n",
    "columns=['Neighborhood', 'Occur Date',\n",
    "         'Open Data Lat', 'Open Data Lon', 'Crime Against', 'Offense Category', 'Offense Count']\n",
    "df_crime=df_crime[columns]\n",
    "\n",
    "# Remove Rows where Neighborhood, Open Data Lat, and Open Data Lon are not not known. There\n",
    "    # are other rows with Lat/Lon with no Neighborhood. Perhaps Neighborhood can be interpreted\n",
    "    # from Lat and Lon.\n",
    "    \n",
    "# Remove rows missing all location identifiers\n",
    "df_crime_location=df_crime.loc[pd.notnull(df_crime['Neighborhood']) |\n",
    "                                  pd.notnull(df_crime['Open Data Lon']) |\n",
    "                                  pd.notnull(df_crime['Open Data Lat'])]\n",
    "#Reindex\n",
    "df_crime_location.index=range(len(df_crime_location.index))\n",
    "\n",
    "# Fill in rows with missing lon,lat with neighborhood center.\n",
    "df_crime_neighborhood_centers=df_crime_location.groupby(['Neighborhood'])['Open Data Lon','Open Data Lat'].mean()\n",
    "for idx, row in df_crime_location.iterrows():\n",
    "    if str(row['Neighborhood'])!='nan'and str(row['Open Data Lon'])==str(row['Open Data Lat']):\n",
    "        neigh=row['Neighborhood']\n",
    "        df_crime_location['Open Data Lon'].values[idx]=df_crime_neighborhood_centers['Open Data Lon'][neigh]\n",
    "        df_crime_location['Open Data Lat'].values[idx]=df_crime_neighborhood_centers['Open Data Lat'][neigh]\n",
    "        \n",
    "# Fill in missing Neighborhoods by lon,lat to closest center.\n",
    "for idx, row in df_crime_location.iterrows():\n",
    "    if str(row['Neighborhood'])=='nan':\n",
    "        lon1=row['Open Data Lon']\n",
    "        lat1=row['Open Data Lat']\n",
    "        min_dist=1000.0\n",
    "        for idx2, row2 in df_crime_neighborhood_centers.iterrows():\n",
    "            lon2=row2['Open Data Lon']\n",
    "            lat2=row2['Open Data Lat']\n",
    "            if min_dist==1000.0:\n",
    "                min_dist=np.linalg.norm([[lon1,lat1],[lon2,lat2]])\n",
    "                idx3=idx2\n",
    "            else:\n",
    "                dist=np.linalg.norm([[lon1,lat1],[lon2,lat2]])\n",
    "                if dist<min_dist:\n",
    "                    min_dist=dist\n",
    "                    idx3=idx2\n",
    "        df_crime_location['Neighborhood'].values[idx]=idx3 \n",
    "\n",
    "#Capitalize Neighborhoods and Combine Buckman East and West to match demographic Neighborhoods\n",
    "for idx, row in df_crime_location.iterrows():\n",
    "    if row['Neighborhood']=='Buckman East' or row['Neighborhood']=='Buckman West':\n",
    "        row['Neighborhood']='Buckman'\n",
    "    df_crime_location['Neighborhood'].values[idx]=row['Neighborhood'].upper()\n",
    "    \n",
    "#Reindex\n",
    "df_crime_location.index=range(len(df_crime_location.index))\n",
    "\n",
    "# Aggregate crime by Neighborhood\n",
    "df_crime_neigh_agg=df_crime_location.groupby(['Neighborhood'])['Offense Count'].sum()"
   ]
  },
  {
   "cell_type": "code",
   "execution_count": 3,
   "metadata": {},
   "outputs": [
    {
     "data": {
      "text/html": [
       "<div>\n",
       "<style scoped>\n",
       "    .dataframe tbody tr th:only-of-type {\n",
       "        vertical-align: middle;\n",
       "    }\n",
       "\n",
       "    .dataframe tbody tr th {\n",
       "        vertical-align: top;\n",
       "    }\n",
       "\n",
       "    .dataframe thead th {\n",
       "        text-align: right;\n",
       "    }\n",
       "</style>\n",
       "<table border=\"1\" class=\"dataframe\">\n",
       "  <thead>\n",
       "    <tr style=\"text-align: right;\">\n",
       "      <th></th>\n",
       "      <th>Neighborhood</th>\n",
       "      <th>Occur Date</th>\n",
       "      <th>Open Data Lat</th>\n",
       "      <th>Open Data Lon</th>\n",
       "      <th>Crime Against</th>\n",
       "      <th>Offense Category</th>\n",
       "      <th>Offense Count</th>\n",
       "    </tr>\n",
       "  </thead>\n",
       "  <tbody>\n",
       "    <tr>\n",
       "      <th>0</th>\n",
       "      <td>ELIOT</td>\n",
       "      <td>9/1/15</td>\n",
       "      <td>45.543009</td>\n",
       "      <td>-122.660094</td>\n",
       "      <td>Property</td>\n",
       "      <td>Fraud Offenses</td>\n",
       "      <td>1</td>\n",
       "    </tr>\n",
       "    <tr>\n",
       "      <th>1</th>\n",
       "      <td>ARGAY</td>\n",
       "      <td>12/1/15</td>\n",
       "      <td>45.543664</td>\n",
       "      <td>-122.510579</td>\n",
       "      <td>Property</td>\n",
       "      <td>Fraud Offenses</td>\n",
       "      <td>1</td>\n",
       "    </tr>\n",
       "    <tr>\n",
       "      <th>2</th>\n",
       "      <td>ARGAY</td>\n",
       "      <td>12/1/15</td>\n",
       "      <td>45.543664</td>\n",
       "      <td>-122.510579</td>\n",
       "      <td>Property</td>\n",
       "      <td>Fraud Offenses</td>\n",
       "      <td>1</td>\n",
       "    </tr>\n",
       "    <tr>\n",
       "      <th>3</th>\n",
       "      <td>PARKROSE HEIGHTS</td>\n",
       "      <td>1/1/15</td>\n",
       "      <td>45.538550</td>\n",
       "      <td>-122.548368</td>\n",
       "      <td>Person</td>\n",
       "      <td>Sex Offenses</td>\n",
       "      <td>1</td>\n",
       "    </tr>\n",
       "    <tr>\n",
       "      <th>4</th>\n",
       "      <td>GRANT PARK</td>\n",
       "      <td>12/20/15</td>\n",
       "      <td>45.536495</td>\n",
       "      <td>-122.634564</td>\n",
       "      <td>Property</td>\n",
       "      <td>Larceny Offenses</td>\n",
       "      <td>1</td>\n",
       "    </tr>\n",
       "  </tbody>\n",
       "</table>\n",
       "</div>"
      ],
      "text/plain": [
       "       Neighborhood Occur Date  Open Data Lat  Open Data Lon Crime Against  \\\n",
       "0             ELIOT     9/1/15      45.543009    -122.660094      Property   \n",
       "1             ARGAY    12/1/15      45.543664    -122.510579      Property   \n",
       "2             ARGAY    12/1/15      45.543664    -122.510579      Property   \n",
       "3  PARKROSE HEIGHTS     1/1/15      45.538550    -122.548368        Person   \n",
       "4        GRANT PARK   12/20/15      45.536495    -122.634564      Property   \n",
       "\n",
       "   Offense Category  Offense Count  \n",
       "0    Fraud Offenses              1  \n",
       "1    Fraud Offenses              1  \n",
       "2    Fraud Offenses              1  \n",
       "3      Sex Offenses              1  \n",
       "4  Larceny Offenses              1  "
      ]
     },
     "execution_count": 3,
     "metadata": {},
     "output_type": "execute_result"
    }
   ],
   "source": [
    "df_crime_location.head()"
   ]
  },
  {
   "cell_type": "code",
   "execution_count": 4,
   "metadata": {},
   "outputs": [
    {
     "data": {
      "text/plain": [
       "Neighborhood\n",
       "ALAMEDA              104\n",
       "ARBOR LODGE          328\n",
       "ARDENWALD             20\n",
       "ARGAY                398\n",
       "ARLINGTON HEIGHTS     66\n",
       "Name: Offense Count, dtype: int64"
      ]
     },
     "execution_count": 4,
     "metadata": {},
     "output_type": "execute_result"
    }
   ],
   "source": [
    "df_crime_neigh_agg.head()"
   ]
  },
  {
   "cell_type": "markdown",
   "metadata": {},
   "source": [
    "## 1.2. Demographic Summary\n",
    "### The 'Total' column is population total per Neighborhood. It is tied to columns which break down population by race. A larger number of columns are dedicated to groupings by sex and age rages. There are also aggregate columns for minors(<18) and elderly(>=65). There is a total household count and these are broken down into a number of household types based on family or non-family structure and owner or renter occupied. Included is a breakdown of vacant households of various types as well as total neighborhood area and total neighborhood water area."
   ]
  },
  {
   "cell_type": "code",
   "execution_count": 5,
   "metadata": {},
   "outputs": [
    {
     "data": {
      "text/html": [
       "<div>\n",
       "<style scoped>\n",
       "    .dataframe tbody tr th:only-of-type {\n",
       "        vertical-align: middle;\n",
       "    }\n",
       "\n",
       "    .dataframe tbody tr th {\n",
       "        vertical-align: top;\n",
       "    }\n",
       "\n",
       "    .dataframe thead th {\n",
       "        text-align: right;\n",
       "    }\n",
       "</style>\n",
       "<table border=\"1\" class=\"dataframe\">\n",
       "  <thead>\n",
       "    <tr style=\"text-align: right;\">\n",
       "      <th></th>\n",
       "      <th>Neighborhood</th>\n",
       "      <th>Total</th>\n",
       "      <th>White</th>\n",
       "      <th>African American</th>\n",
       "      <th>Native American</th>\n",
       "      <th>Asian</th>\n",
       "      <th>Pacific Islander</th>\n",
       "      <th>Other Race</th>\n",
       "      <th>Multi-Racial</th>\n",
       "      <th>Hispanic</th>\n",
       "      <th>...</th>\n",
       "      <th>Rental Vacancies</th>\n",
       "      <th>For Sale Vacancies</th>\n",
       "      <th>Rented or Sold but unoccupied</th>\n",
       "      <th>Seasonal use units</th>\n",
       "      <th>Units for Migrant workers</th>\n",
       "      <th>Other vacant</th>\n",
       "      <th>Population in owner occupied housing units</th>\n",
       "      <th>Population in renter occupied housing units</th>\n",
       "      <th>Land area in square meters (divide by 2,589,988 to derive square miles)</th>\n",
       "      <th>Water area in square meters (divide by 2,589,988 to derive square miles)</th>\n",
       "    </tr>\n",
       "  </thead>\n",
       "  <tbody>\n",
       "    <tr>\n",
       "      <th>0</th>\n",
       "      <td>ALAMEDA</td>\n",
       "      <td>5214</td>\n",
       "      <td>4617</td>\n",
       "      <td>112</td>\n",
       "      <td>9</td>\n",
       "      <td>125</td>\n",
       "      <td>10</td>\n",
       "      <td>15</td>\n",
       "      <td>152</td>\n",
       "      <td>174</td>\n",
       "      <td>...</td>\n",
       "      <td>7</td>\n",
       "      <td>18</td>\n",
       "      <td>2</td>\n",
       "      <td>4</td>\n",
       "      <td>0</td>\n",
       "      <td>17</td>\n",
       "      <td>4725</td>\n",
       "      <td>488</td>\n",
       "      <td>1590610</td>\n",
       "      <td>0</td>\n",
       "    </tr>\n",
       "    <tr>\n",
       "      <th>1</th>\n",
       "      <td>ARBOR LODGE</td>\n",
       "      <td>6153</td>\n",
       "      <td>4702</td>\n",
       "      <td>299</td>\n",
       "      <td>44</td>\n",
       "      <td>306</td>\n",
       "      <td>67</td>\n",
       "      <td>33</td>\n",
       "      <td>278</td>\n",
       "      <td>424</td>\n",
       "      <td>...</td>\n",
       "      <td>26</td>\n",
       "      <td>22</td>\n",
       "      <td>11</td>\n",
       "      <td>11</td>\n",
       "      <td>0</td>\n",
       "      <td>40</td>\n",
       "      <td>4295</td>\n",
       "      <td>1850</td>\n",
       "      <td>2252448</td>\n",
       "      <td>0</td>\n",
       "    </tr>\n",
       "    <tr>\n",
       "      <th>2</th>\n",
       "      <td>ARDENWALD-JOHNSON CREEK</td>\n",
       "      <td>4748</td>\n",
       "      <td>4105</td>\n",
       "      <td>87</td>\n",
       "      <td>35</td>\n",
       "      <td>83</td>\n",
       "      <td>10</td>\n",
       "      <td>9</td>\n",
       "      <td>148</td>\n",
       "      <td>271</td>\n",
       "      <td>...</td>\n",
       "      <td>28</td>\n",
       "      <td>16</td>\n",
       "      <td>8</td>\n",
       "      <td>8</td>\n",
       "      <td>0</td>\n",
       "      <td>43</td>\n",
       "      <td>3023</td>\n",
       "      <td>1693</td>\n",
       "      <td>2998136</td>\n",
       "      <td>20882</td>\n",
       "    </tr>\n",
       "    <tr>\n",
       "      <th>3</th>\n",
       "      <td>ARGAY</td>\n",
       "      <td>6006</td>\n",
       "      <td>3201</td>\n",
       "      <td>751</td>\n",
       "      <td>57</td>\n",
       "      <td>616</td>\n",
       "      <td>109</td>\n",
       "      <td>15</td>\n",
       "      <td>221</td>\n",
       "      <td>1036</td>\n",
       "      <td>...</td>\n",
       "      <td>109</td>\n",
       "      <td>16</td>\n",
       "      <td>11</td>\n",
       "      <td>5</td>\n",
       "      <td>0</td>\n",
       "      <td>21</td>\n",
       "      <td>3278</td>\n",
       "      <td>2665</td>\n",
       "      <td>4921570</td>\n",
       "      <td>214516</td>\n",
       "    </tr>\n",
       "    <tr>\n",
       "      <th>4</th>\n",
       "      <td>ARLINGTON HEIGHTS</td>\n",
       "      <td>718</td>\n",
       "      <td>628</td>\n",
       "      <td>7</td>\n",
       "      <td>1</td>\n",
       "      <td>31</td>\n",
       "      <td>0</td>\n",
       "      <td>1</td>\n",
       "      <td>27</td>\n",
       "      <td>23</td>\n",
       "      <td>...</td>\n",
       "      <td>1</td>\n",
       "      <td>6</td>\n",
       "      <td>3</td>\n",
       "      <td>6</td>\n",
       "      <td>0</td>\n",
       "      <td>12</td>\n",
       "      <td>679</td>\n",
       "      <td>39</td>\n",
       "      <td>2329338</td>\n",
       "      <td>14939</td>\n",
       "    </tr>\n",
       "  </tbody>\n",
       "</table>\n",
       "<p>5 rows × 89 columns</p>\n",
       "</div>"
      ],
      "text/plain": [
       "              Neighborhood  Total  White  African American  Native American  \\\n",
       "0                  ALAMEDA   5214   4617               112                9   \n",
       "1              ARBOR LODGE   6153   4702               299               44   \n",
       "2  ARDENWALD-JOHNSON CREEK   4748   4105                87               35   \n",
       "3                    ARGAY   6006   3201               751               57   \n",
       "4        ARLINGTON HEIGHTS    718    628                 7                1   \n",
       "\n",
       "   Asian  Pacific Islander  Other Race  Multi-Racial  Hispanic  \\\n",
       "0    125                10          15           152       174   \n",
       "1    306                67          33           278       424   \n",
       "2     83                10           9           148       271   \n",
       "3    616               109          15           221      1036   \n",
       "4     31                 0           1            27        23   \n",
       "\n",
       "                                     ...                                     \\\n",
       "0                                    ...                                      \n",
       "1                                    ...                                      \n",
       "2                                    ...                                      \n",
       "3                                    ...                                      \n",
       "4                                    ...                                      \n",
       "\n",
       "   Rental Vacancies  For Sale Vacancies  Rented or Sold but unoccupied  \\\n",
       "0                 7                  18                              2   \n",
       "1                26                  22                             11   \n",
       "2                28                  16                              8   \n",
       "3               109                  16                             11   \n",
       "4                 1                   6                              3   \n",
       "\n",
       "   Seasonal use units  Units for Migrant workers  Other vacant  \\\n",
       "0                   4                          0            17   \n",
       "1                  11                          0            40   \n",
       "2                   8                          0            43   \n",
       "3                   5                          0            21   \n",
       "4                   6                          0            12   \n",
       "\n",
       "   Population in owner occupied housing units  \\\n",
       "0                                        4725   \n",
       "1                                        4295   \n",
       "2                                        3023   \n",
       "3                                        3278   \n",
       "4                                         679   \n",
       "\n",
       "   Population in renter occupied housing units  \\\n",
       "0                                          488   \n",
       "1                                         1850   \n",
       "2                                         1693   \n",
       "3                                         2665   \n",
       "4                                           39   \n",
       "\n",
       "   Land area in square meters (divide by 2,589,988 to derive square miles)  \\\n",
       "0                                            1590610                         \n",
       "1                                            2252448                         \n",
       "2                                            2998136                         \n",
       "3                                            4921570                         \n",
       "4                                            2329338                         \n",
       "\n",
       "   Water area in square meters (divide by 2,589,988 to derive square miles)  \n",
       "0                                                  0                         \n",
       "1                                                  0                         \n",
       "2                                              20882                         \n",
       "3                                             214516                         \n",
       "4                                              14939                         \n",
       "\n",
       "[5 rows x 89 columns]"
      ]
     },
     "execution_count": 5,
     "metadata": {},
     "output_type": "execute_result"
    }
   ],
   "source": [
    "dfcensus.head()"
   ]
  },
  {
   "cell_type": "markdown",
   "metadata": {},
   "source": [
    "## 1.3. Demographics Cleaning\n",
    "### The Excel spreadsheet had many formatting issues and long column names which were easier to fix prior to conversion. Also, non-needed rows and columns were removed and some aggregate columns were created or renamed for clarification. Also, all columns and Neighborhoods were converted to text and all other data to integer values. \n",
    "\n",
    "### The final steps below showed a natural pairing of Neighborhood Names between the crime aggregate and census data. However, some names came with some variation so these are redefined to be the same in both dataframes."
   ]
  },
  {
   "cell_type": "code",
   "execution_count": 6,
   "metadata": {},
   "outputs": [],
   "source": [
    "# #Comparing Neighborhood Names in Crime and Demographics\n",
    "# for idx, row in dfcensus.iterrows():\n",
    "#     print(df_crime_neigh_agg.index[idx], dfcensus['Neighborhood'][idx])\n",
    "    \n",
    "# # Unify Neighborhood Names for crime aggregate and census\n",
    "# for idx, row in dfcensus.iterrows():\n",
    "#     dfcensus['Neighborhood'].values[idx]=df_crime_neigh_agg.index[idx]\n",
    "\n",
    "# #Confirming \n",
    "# for idx, row in dfcensus.iterrows():\n",
    "#     print(df_crime_neigh_agg.index[idx], dfcensus['Neighborhood'][idx])"
   ]
  },
  {
   "cell_type": "markdown",
   "metadata": {},
   "source": [
    "## 1.4. Creating Neighborhood Diversity Proportions\n",
    "\n",
    "### Race: White, African American, Native American, Pacific Islander, Hispanic, Other, Multi-Racial\n",
    "### Age: Minors, Senior\n",
    "### Sex: Male, Female\n",
    "### Households: Owner Occupied, Single Parent, Single Occupied"
   ]
  },
  {
   "cell_type": "code",
   "execution_count": 7,
   "metadata": {},
   "outputs": [
    {
     "name": "stdout",
     "output_type": "stream",
     "text": [
      "<class 'pandas.core.frame.DataFrame'>\n",
      "RangeIndex: 95 entries, 0 to 94\n",
      "Data columns (total 17 columns):\n",
      "Neighborhood             95 non-null object\n",
      "Crime Rate               95 non-null float64\n",
      "White Prop               95 non-null float64\n",
      "African American Prop    95 non-null float64\n",
      "Native Americal Prop     95 non-null float64\n",
      "Asian Prop               95 non-null float64\n",
      "Pacific Islander Prop    95 non-null float64\n",
      "Hispanic Prop            95 non-null float64\n",
      "Other Race Prop          95 non-null float64\n",
      "Multi-Racial Prop        95 non-null float64\n",
      "Male Prop                95 non-null float64\n",
      "Female Prop              95 non-null float64\n",
      "Minor Prop               95 non-null float64\n",
      "Senior Prop              95 non-null float64\n",
      "Owner Occupied Prop      95 non-null float64\n",
      "Single Parent Prop       95 non-null float64\n",
      "Single Occupied Prop     95 non-null float64\n",
      "dtypes: float64(16), object(1)\n",
      "memory usage: 12.7+ KB\n",
      "None\n"
     ]
    },
    {
     "data": {
      "text/html": [
       "<div>\n",
       "<style scoped>\n",
       "    .dataframe tbody tr th:only-of-type {\n",
       "        vertical-align: middle;\n",
       "    }\n",
       "\n",
       "    .dataframe tbody tr th {\n",
       "        vertical-align: top;\n",
       "    }\n",
       "\n",
       "    .dataframe thead th {\n",
       "        text-align: right;\n",
       "    }\n",
       "</style>\n",
       "<table border=\"1\" class=\"dataframe\">\n",
       "  <thead>\n",
       "    <tr style=\"text-align: right;\">\n",
       "      <th></th>\n",
       "      <th>Neighborhood</th>\n",
       "      <th>Crime Rate</th>\n",
       "      <th>White Prop</th>\n",
       "      <th>African American Prop</th>\n",
       "      <th>Native Americal Prop</th>\n",
       "      <th>Asian Prop</th>\n",
       "      <th>Pacific Islander Prop</th>\n",
       "      <th>Hispanic Prop</th>\n",
       "      <th>Other Race Prop</th>\n",
       "      <th>Multi-Racial Prop</th>\n",
       "      <th>Male Prop</th>\n",
       "      <th>Female Prop</th>\n",
       "      <th>Minor Prop</th>\n",
       "      <th>Senior Prop</th>\n",
       "      <th>Owner Occupied Prop</th>\n",
       "      <th>Single Parent Prop</th>\n",
       "      <th>Single Occupied Prop</th>\n",
       "    </tr>\n",
       "  </thead>\n",
       "  <tbody>\n",
       "    <tr>\n",
       "      <th>0</th>\n",
       "      <td>ALAMEDA</td>\n",
       "      <td>0.019946</td>\n",
       "      <td>0.885501</td>\n",
       "      <td>0.021481</td>\n",
       "      <td>0.001726</td>\n",
       "      <td>0.023974</td>\n",
       "      <td>0.001918</td>\n",
       "      <td>0.033372</td>\n",
       "      <td>0.002877</td>\n",
       "      <td>0.029152</td>\n",
       "      <td>0.483506</td>\n",
       "      <td>0.516494</td>\n",
       "      <td>0.223245</td>\n",
       "      <td>0.429804</td>\n",
       "      <td>0.881924</td>\n",
       "      <td>0.281341</td>\n",
       "      <td>0.332362</td>\n",
       "    </tr>\n",
       "    <tr>\n",
       "      <th>1</th>\n",
       "      <td>ARBOR LODGE</td>\n",
       "      <td>0.053307</td>\n",
       "      <td>0.764180</td>\n",
       "      <td>0.048594</td>\n",
       "      <td>0.007151</td>\n",
       "      <td>0.049732</td>\n",
       "      <td>0.010889</td>\n",
       "      <td>0.068909</td>\n",
       "      <td>0.005363</td>\n",
       "      <td>0.045181</td>\n",
       "      <td>0.499919</td>\n",
       "      <td>0.500081</td>\n",
       "      <td>0.145295</td>\n",
       "      <td>0.394929</td>\n",
       "      <td>0.662942</td>\n",
       "      <td>0.334895</td>\n",
       "      <td>0.172314</td>\n",
       "    </tr>\n",
       "    <tr>\n",
       "      <th>2</th>\n",
       "      <td>ARDENWALD-JOHNSON CREEK</td>\n",
       "      <td>0.004212</td>\n",
       "      <td>0.864575</td>\n",
       "      <td>0.018324</td>\n",
       "      <td>0.007372</td>\n",
       "      <td>0.017481</td>\n",
       "      <td>0.002106</td>\n",
       "      <td>0.057077</td>\n",
       "      <td>0.001896</td>\n",
       "      <td>0.031171</td>\n",
       "      <td>0.483151</td>\n",
       "      <td>0.516849</td>\n",
       "      <td>0.191660</td>\n",
       "      <td>0.424810</td>\n",
       "      <td>0.566572</td>\n",
       "      <td>0.307838</td>\n",
       "      <td>0.213409</td>\n",
       "    </tr>\n",
       "    <tr>\n",
       "      <th>3</th>\n",
       "      <td>ARGAY</td>\n",
       "      <td>0.066267</td>\n",
       "      <td>0.532967</td>\n",
       "      <td>0.125042</td>\n",
       "      <td>0.009491</td>\n",
       "      <td>0.102564</td>\n",
       "      <td>0.018149</td>\n",
       "      <td>0.172494</td>\n",
       "      <td>0.002498</td>\n",
       "      <td>0.036797</td>\n",
       "      <td>0.487013</td>\n",
       "      <td>0.512987</td>\n",
       "      <td>0.215285</td>\n",
       "      <td>0.449051</td>\n",
       "      <td>0.528823</td>\n",
       "      <td>0.384307</td>\n",
       "      <td>0.189351</td>\n",
       "    </tr>\n",
       "    <tr>\n",
       "      <th>4</th>\n",
       "      <td>ARLINGTON HEIGHTS</td>\n",
       "      <td>0.091922</td>\n",
       "      <td>0.874652</td>\n",
       "      <td>0.009749</td>\n",
       "      <td>0.001393</td>\n",
       "      <td>0.043175</td>\n",
       "      <td>0.000000</td>\n",
       "      <td>0.032033</td>\n",
       "      <td>0.001393</td>\n",
       "      <td>0.037604</td>\n",
       "      <td>0.502786</td>\n",
       "      <td>0.497214</td>\n",
       "      <td>0.193593</td>\n",
       "      <td>0.480501</td>\n",
       "      <td>0.859935</td>\n",
       "      <td>0.315961</td>\n",
       "      <td>0.267101</td>\n",
       "    </tr>\n",
       "  </tbody>\n",
       "</table>\n",
       "</div>"
      ],
      "text/plain": [
       "              Neighborhood  Crime Rate  White Prop  African American Prop  \\\n",
       "0                  ALAMEDA    0.019946    0.885501               0.021481   \n",
       "1              ARBOR LODGE    0.053307    0.764180               0.048594   \n",
       "2  ARDENWALD-JOHNSON CREEK    0.004212    0.864575               0.018324   \n",
       "3                    ARGAY    0.066267    0.532967               0.125042   \n",
       "4        ARLINGTON HEIGHTS    0.091922    0.874652               0.009749   \n",
       "\n",
       "   Native Americal Prop  Asian Prop  Pacific Islander Prop  Hispanic Prop  \\\n",
       "0              0.001726    0.023974               0.001918       0.033372   \n",
       "1              0.007151    0.049732               0.010889       0.068909   \n",
       "2              0.007372    0.017481               0.002106       0.057077   \n",
       "3              0.009491    0.102564               0.018149       0.172494   \n",
       "4              0.001393    0.043175               0.000000       0.032033   \n",
       "\n",
       "   Other Race Prop  Multi-Racial Prop  Male Prop  Female Prop  Minor Prop  \\\n",
       "0         0.002877           0.029152   0.483506     0.516494    0.223245   \n",
       "1         0.005363           0.045181   0.499919     0.500081    0.145295   \n",
       "2         0.001896           0.031171   0.483151     0.516849    0.191660   \n",
       "3         0.002498           0.036797   0.487013     0.512987    0.215285   \n",
       "4         0.001393           0.037604   0.502786     0.497214    0.193593   \n",
       "\n",
       "   Senior Prop  Owner Occupied Prop  Single Parent Prop  Single Occupied Prop  \n",
       "0     0.429804             0.881924            0.281341              0.332362  \n",
       "1     0.394929             0.662942            0.334895              0.172314  \n",
       "2     0.424810             0.566572            0.307838              0.213409  \n",
       "3     0.449051             0.528823            0.384307              0.189351  \n",
       "4     0.480501             0.859935            0.315961              0.267101  "
      ]
     },
     "execution_count": 7,
     "metadata": {},
     "output_type": "execute_result"
    }
   ],
   "source": [
    "# Adding Crime Totals\n",
    "dfcensus['Crimes']=df_crime_neigh_agg.values\n",
    "\n",
    "#Adding Crime Rates per capita\n",
    "dfcensus['Crime Rate']=np.divide(dfcensus['Crimes'],dfcensus['Total'])\n",
    "\n",
    "# Adding Race Proportions\n",
    "dfcensus['White Prop']=np.divide(dfcensus['White'],dfcensus['Total'])\n",
    "dfcensus['African American Prop']=np.divide(dfcensus['African American'],dfcensus['Total'])\n",
    "dfcensus['Native Americal Prop']=np.divide(dfcensus['Native American'],dfcensus['Total'])\n",
    "dfcensus['Asian Prop']=np.divide(dfcensus['Asian'],dfcensus['Total'])\n",
    "dfcensus['Pacific Islander Prop']=np.divide(dfcensus['Pacific Islander'],dfcensus['Total'])\n",
    "dfcensus['Hispanic Prop']=np.divide(dfcensus['Hispanic'],dfcensus['Total'])\n",
    "dfcensus['Other Race Prop']=np.divide(dfcensus['Other Race'],dfcensus['Total'])\n",
    "dfcensus['Multi-Racial Prop']=np.divide(dfcensus['Multi-Racial'],dfcensus['Total'])\n",
    "\n",
    "#Adding Age and Sex Proportions\n",
    "dfcensus['Male Prop']=dfcensus['Total']\n",
    "dfcensus['Female Prop']=dfcensus['Total']\n",
    "dfcensus['Minor Prop']=dfcensus['Total']\n",
    "dfcensus['Senior Prop']=dfcensus['Total']\n",
    "for idx, row in dfcensus.iterrows():\n",
    "    dfcensus['Male Prop'].values[idx]=np.sum(row[10:29])\n",
    "    dfcensus['Female Prop'].values[idx]=np.sum(row[29:48])\n",
    "    dfcensus['Minor Prop'].values[idx]=np.sum(row[10:14])+np.sum(row[30:34])\n",
    "    dfcensus['Senior Prop'].values[idx]=np.sum(row[25:31])+np.sum(row[45:51])\n",
    "\n",
    "dfcensus['Male Prop']=np.divide(dfcensus['Male Prop'],dfcensus['Total'])\n",
    "dfcensus['Female Prop']=np.divide(dfcensus['Female Prop'],dfcensus['Total'])\n",
    "dfcensus['Minor Prop']=np.divide(dfcensus['Minor Prop'],dfcensus['Total'])\n",
    "dfcensus['Senior Prop']=np.divide(dfcensus['Senior Prop'],dfcensus['Total'])\n",
    "\n",
    "#Adding Household proportions\n",
    "dfcensus['Owner Occupied Prop']=dfcensus['Total Households']\n",
    "dfcensus['Single Parent Prop']=dfcensus['Total Households']\n",
    "dfcensus['Single Occupied Prop']=dfcensus['Total Households']\n",
    "for idx, row in dfcensus.iterrows():\n",
    "    dfcensus['Owner Occupied Prop'].values[idx]=row[-29]+row[-30]\n",
    "    dfcensus['Single Parent Prop'].values[idx]=row[-50]+row[-48]\n",
    "    dfcensus['Single Occupied Prop'].values[idx]=row[-55]+row[-54]\n",
    "    \n",
    "dfcensus['Owner Occupied Prop']=np.divide(dfcensus['Owner Occupied Prop'],dfcensus['Total Households'])\n",
    "dfcensus['Single Parent Prop']=np.divide(dfcensus['Single Parent Prop'],dfcensus['Total Households'])\n",
    "dfcensus['Single Occupied Prop']=np.divide(dfcensus['Single Occupied Prop'],dfcensus['Total Households'])\n",
    "\n",
    "# Slice to get all proportions and crime rate per neighborhood \n",
    "cols=['Neighborhood']+list(dfcensus.columns[-16:])\n",
    "df_crime_census=dfcensus.loc[:,cols]\n",
    "df_crime_census.columns\n",
    "\n",
    "print(df_crime_census.info())\n",
    "\n",
    "df_crime_census.head()"
   ]
  },
  {
   "cell_type": "markdown",
   "metadata": {},
   "source": [
    "# 2. Data Storytelling\n",
    "\n",
    "## 2.1. What kinds of diversity are related to crime?\n",
    "\n",
    "### This motivating question is behind the organization of the 2015 crime with 2010 Census data seen above. The given proportions can be used to define a number of diversity measures per neighborhood which can be explored in connection with crime rates. Typical crime analysis deals much with race and more impportantly socio-economic factors. Intuitively, such factors may be encoded in the summary data given above. So, the intent of this project it to NOT work directly with economic factors but neighborhood diversity measures based on race, sex, age, and household types. \n",
    "\n",
    "### The main questions stemming from this initial story are related to which diversity factors are related to crime in Portland. Some initial visulization will illustrate that some less popular factors may play a larger role than race. Of course economic factors have been well established and become almost common sensical in such analyses. Thus, we will try to avoid these in a formal manner and see how other factors, which intuitively relate to economic situations are important as well. \n",
    "\n",
    "### The graphics used in this initial exploration are those that seem to say the most within the diversity factors being considered. This does not mean we are done with the other. In later, formal analysis, these factors will be analyzed as well but typically in some combinations to derive more complex factors which may be important to the study of crime in Portland. \n",
    "\n",
    "## 2.2. Factor Distributions\n",
    "\n",
    "### We begin by looking at factor distributions. Since all factors are proportions, they are all  between 0 and 1."
   ]
  },
  {
   "cell_type": "code",
   "execution_count": 8,
   "metadata": {},
   "outputs": [
    {
     "data": {
      "image/png": "[encoded data removed]",
      "text/plain": [
       "<Figure size 432x288 with 1 Axes>"
      ]
     },
     "metadata": {},
     "output_type": "display_data"
    }
   ],
   "source": [
    "# Crime\n",
    "plt.hist(df_crime_census['Crime Rate'])\n",
    "plt.xlabel('Distribution of Crime Rate', fontsize=16)\n",
    "plt.show()"
   ]
  },
  {
   "cell_type": "markdown",
   "metadata": {},
   "source": [
    "### There is a clear outlier neighborhood in terms of crime rate. This is the Northwest Industrial District which is a non-residential district. Thus, the low residency rate and highly valuable and secluded property is a breading ground for crime in most majors cities. \n",
    "\n",
    "### The crime rate standard deviation given below clearly shows that in most outlier conventions, the Northwest Industrial district is the only outlier which should definitely be removed from our analysis at this point."
   ]
  },
  {
   "cell_type": "code",
   "execution_count": 9,
   "metadata": {},
   "outputs": [
    {
     "data": {
      "text/plain": [
       "0.8148314111637383"
      ]
     },
     "execution_count": 9,
     "metadata": {},
     "output_type": "execute_result"
    }
   ],
   "source": [
    "np.std(df_crime_census['Crime Rate'])"
   ]
  },
  {
   "cell_type": "code",
   "execution_count": 10,
   "metadata": {},
   "outputs": [
    {
     "data": {
      "text/plain": [
       "'NORTHWEST INDUSTRIAL'"
      ]
     },
     "execution_count": 10,
     "metadata": {},
     "output_type": "execute_result"
    }
   ],
   "source": [
    "df_crime_census['Neighborhood'][61]"
   ]
  },
  {
   "cell_type": "code",
   "execution_count": 11,
   "metadata": {},
   "outputs": [
    {
     "data": {
      "image/png": "[encoded data removed]",
      "text/plain": [
       "<Figure size 432x288 with 1 Axes>"
      ]
     },
     "metadata": {},
     "output_type": "display_data"
    }
   ],
   "source": [
    "# Removal of Outlier\n",
    "df_crime_census.drop(df_crime_census.index[61], inplace=True)\n",
    "\n",
    "# Crime\n",
    "plt.hist(df_crime_census['Crime Rate'])\n",
    "plt.xlabel('Updated Distribution of Crime Rate', fontsize=16)\n",
    "plt.show()"
   ]
  },
  {
   "cell_type": "code",
   "execution_count": 12,
   "metadata": {},
   "outputs": [
    {
     "data": {
      "image/png": "[encoded data removed]",
      "text/plain": [
       "<Figure size 432x288 with 1 Axes>"
      ]
     },
     "metadata": {},
     "output_type": "display_data"
    }
   ],
   "source": [
    "# White Prop\n",
    "plt.hist(df_crime_census['White Prop'])\n",
    "plt.xlabel('Distribution of Predominantly White Neighborhoods', fontsize=16)\n",
    "plt.show()"
   ]
  },
  {
   "cell_type": "markdown",
   "metadata": {},
   "source": [
    "### As is well-known, Portland is mostly white but the above histogram shows a natural splitting of neighborhoods based on the proporion of white residents. We will call a neighborhood 'Predominantly White' if the proportion of white residents is greater than 0.75. So, we will add a boolean factor to our data frame to help with further exploration and analysis.\n",
    "\n",
    "### Q: Is there any statistically significant relationship between the proportion of white residents and crime in Portland neighborhoods?\n",
    "\n",
    "### The histogram below gives a visualization that this splitting of neighborhoods by 'Predominantly White' and 'More Diverse' does not seem to contribute to different crime rates per neighborhood. "
   ]
  },
  {
   "cell_type": "code",
   "execution_count": 13,
   "metadata": {},
   "outputs": [
    {
     "data": {
      "image/png": "[encoded data removed]",
      "text/plain": [
       "<Figure size 432x288 with 1 Axes>"
      ]
     },
     "metadata": {},
     "output_type": "display_data"
    }
   ],
   "source": [
    "df_crime_census['Predominantly White']=df_crime_census['White Prop']>0.75\n",
    "df_white=df_crime_census.loc[df_crime_census['Predominantly White']==True]\n",
    "df_diverse=df_crime_census.loc[df_crime_census['Predominantly White']==False]\n",
    "plt.xlabel('Crime Rate', fontsize=16)\n",
    "plt.ylabel('Normalized Frequencies',fontsize=16)\n",
    "plt.hist([df_white['Crime Rate'],df_diverse['Crime Rate']], density=True)\n",
    "plt.legend(['Pred. White','More Diverse'])\n",
    "plt.show()"
   ]
  },
  {
   "cell_type": "markdown",
   "metadata": {},
   "source": [
    "### Q: Does a higher proportionality of Male residents contribute to higher crime?\n",
    "\n",
    "### The following scatter plot suggests this question is worth investigation. "
   ]
  },
  {
   "cell_type": "code",
   "execution_count": 14,
   "metadata": {},
   "outputs": [
    {
     "data": {
      "image/png": "[encoded data removed]",
      "text/plain": [
       "<Figure size 432x288 with 1 Axes>"
      ]
     },
     "metadata": {},
     "output_type": "display_data"
    }
   ],
   "source": [
    "plt.hist(df_crime_census['Male Prop'])\n",
    "plt.xlabel('Distribution of Male Prop', fontsize=16)\n",
    "plt.show()"
   ]
  },
  {
   "cell_type": "code",
   "execution_count": 15,
   "metadata": {},
   "outputs": [
    {
     "data": {
      "text/plain": [
       "0.05161390455170787"
      ]
     },
     "execution_count": 15,
     "metadata": {},
     "output_type": "execute_result"
    }
   ],
   "source": [
    "np.std(df_crime_census['Male Prop'])"
   ]
  },
  {
   "cell_type": "markdown",
   "metadata": {},
   "source": [
    "### As with crime, there is a clear outliers worthy of a closer look.\n",
    "\n",
    "### As seen by the following percentiles, the Sunderland Neighborhood has a high Single Parent Proportion and a low Owner Occupied Proportion. Combining these with an extremely high Male Proportion, one gets an unstable community with high stress and  lots of testosterone. This is not a good mix.\n",
    "\n",
    "### Old Town-Chinatown has few single parents but the Owner Occupied Proportion is almost non-existent as Portland neighborhoods go. Again, as an almost entirely business and rental property neighborhood, this is not typical for a Portland neighborhood."
   ]
  },
  {
   "cell_type": "code",
   "execution_count": 16,
   "metadata": {},
   "outputs": [
    {
     "name": "stdout",
     "output_type": "stream",
     "text": [
      "OLD TOWN-CHINATOWN\n",
      "***********************\n",
      "Single Parent Prop Percentile: 2.127659574468085\n",
      "Owner Occupied Prop Percentile: 4.25531914893617\n",
      "***********************\n",
      "***********************\n",
      "SUNDERLAND\n",
      "***********************\n",
      "Single Parent Prop Percentile: 87.23404255319149\n",
      "Owner Occupied Prop Percentile: 20.21276595744681\n",
      "***********************\n",
      "***********************\n"
     ]
    }
   ],
   "source": [
    "for idx, row in df_crime_census.iterrows():\n",
    "    if row['Male Prop']>0.6:\n",
    "        print(row['Neighborhood'])\n",
    "        print('***********************')\n",
    "        print('Single Parent Prop Percentile: '+str(stats.percentileofscore(df_crime_census['Single Parent Prop'],row['Single Parent Prop'])))\n",
    "        print('Owner Occupied Prop Percentile: '+str(stats.percentileofscore(df_crime_census['Owner Occupied Prop'],row['Single Parent Prop'])))\n",
    "        print('***********************')\n",
    "        print('***********************')\n",
    "# Removal of Outlier"
   ]
  },
  {
   "cell_type": "code",
   "execution_count": 17,
   "metadata": {},
   "outputs": [
    {
     "data": {
      "text/plain": [
       "('OLD TOWN-CHINATOWN', 'SUNDERLAND')"
      ]
     },
     "execution_count": 17,
     "metadata": {},
     "output_type": "execute_result"
    }
   ],
   "source": [
    "df_crime_census['Neighborhood'][62], df_crime_census['Neighborhood'][85]"
   ]
  },
  {
   "cell_type": "code",
   "execution_count": 18,
   "metadata": {},
   "outputs": [],
   "source": [
    "# Drop Outliers\n",
    "df_crime_census.drop([62,85],inplace=True)"
   ]
  },
  {
   "cell_type": "code",
   "execution_count": 19,
   "metadata": {},
   "outputs": [
    {
     "data": {
      "image/png": "[encoded data removed]",
      "text/plain": [
       "<Figure size 432x288 with 1 Axes>"
      ]
     },
     "metadata": {},
     "output_type": "display_data"
    }
   ],
   "source": [
    "plt.hist(df_crime_census['Male Prop'])\n",
    "plt.xlabel('Adjusted Distribution of Male Prop', fontsize=16)\n",
    "plt.show()"
   ]
  },
  {
   "cell_type": "markdown",
   "metadata": {},
   "source": [
    "### With outliers removed, the scatter plot below suggests a possible positive correlation between crime rate and the proportion of males in the population. This warrents further analysis."
   ]
  },
  {
   "cell_type": "code",
   "execution_count": 20,
   "metadata": {},
   "outputs": [
    {
     "data": {
      "text/plain": [
       "<matplotlib.collections.PathCollection at 0x10f82a390>"
      ]
     },
     "execution_count": 20,
     "metadata": {},
     "output_type": "execute_result"
    },
    {
     "data": {
      "image/png": "[encoded data removed]",
      "text/plain": [
       "<Figure size 432x288 with 1 Axes>"
      ]
     },
     "metadata": {},
     "output_type": "display_data"
    }
   ],
   "source": [
    "x = list(df_crime_census['Male Prop'])\n",
    "y = list(df_crime_census['Crime Rate'])\n",
    "plt.xlabel('Male Proportion', fontsize=16)\n",
    "plt.ylabel('Crime Rate', fontsize=16)\n",
    "plt.scatter(x,y)"
   ]
  },
  {
   "cell_type": "markdown",
   "metadata": {},
   "source": [
    "### Q. Does a higher number of children relate to crime in general?\n",
    "\n",
    "### The histogram and standard deviation below imply there are no outlier neighborhoods, of those not already removed. "
   ]
  },
  {
   "cell_type": "code",
   "execution_count": 21,
   "metadata": {},
   "outputs": [
    {
     "data": {
      "image/png": "[encoded data removed]",
      "text/plain": [
       "<Figure size 432x288 with 1 Axes>"
      ]
     },
     "metadata": {},
     "output_type": "display_data"
    }
   ],
   "source": [
    "plt.hist(df_crime_census['Minor Prop'])\n",
    "plt.xlabel('Distribution of Minor Prop', fontsize=16)\n",
    "plt.show()"
   ]
  },
  {
   "cell_type": "code",
   "execution_count": 22,
   "metadata": {},
   "outputs": [
    {
     "data": {
      "text/plain": [
       "0.0556884121736941"
      ]
     },
     "execution_count": 22,
     "metadata": {},
     "output_type": "execute_result"
    }
   ],
   "source": [
    "np.std(df_crime_census['Minor Prop'])"
   ]
  },
  {
   "cell_type": "markdown",
   "metadata": {},
   "source": [
    "### The following scatter plot shows a possible negative correlation between crime in general and the proportion of the population that are under 18 years of age. Like the proportion of Males, this warrants a closer look through the eyes of statistical significance."
   ]
  },
  {
   "cell_type": "code",
   "execution_count": 23,
   "metadata": {},
   "outputs": [
    {
     "data": {
      "text/plain": [
       "<matplotlib.collections.PathCollection at 0x10f94dc88>"
      ]
     },
     "execution_count": 23,
     "metadata": {},
     "output_type": "execute_result"
    },
    {
     "data": {
      "image/png": "[encoded data removed]",
      "text/plain": [
       "<Figure size 432x288 with 1 Axes>"
      ]
     },
     "metadata": {},
     "output_type": "display_data"
    }
   ],
   "source": [
    "x = list(df_crime_census['Minor Prop'])\n",
    "plt.xlabel('Minor Proportion', fontsize=16)\n",
    "plt.ylabel('Crime Rate', fontsize=16)\n",
    "plt.scatter(x,y)"
   ]
  },
  {
   "cell_type": "markdown",
   "metadata": {},
   "source": [
    "### Q. Does a higher proportion of owner occupied households relate to crime in general?\n",
    "\n",
    "### Again, we see that there are no clear outliers due to the below distrubution and standard deviation. As with the prevelance of children, this factor apprears that it may have a negative correlation with crime. This is somewhat intuitive as a higher proportion of owner occupied homes with children provide a more stable set of residents which are highly invested in their neighborhood and its well-being. It also means more economically stable residents with better security, both technologically and socially. Also, a somewhat unfortunate reality is that such neighborhoods in a city generally have faster emergency response."
   ]
  },
  {
   "cell_type": "code",
   "execution_count": 24,
   "metadata": {},
   "outputs": [
    {
     "data": {
      "image/png": "[encoded data removed]",
      "text/plain": [
       "<Figure size 432x288 with 1 Axes>"
      ]
     },
     "metadata": {},
     "output_type": "display_data"
    }
   ],
   "source": [
    "plt.hist(df_crime_census['Owner Occupied Prop'])\n",
    "plt.xlabel('Distribution of Owner Occupied Prop', fontsize=16)\n",
    "plt.show()"
   ]
  },
  {
   "cell_type": "code",
   "execution_count": 25,
   "metadata": {},
   "outputs": [
    {
     "data": {
      "text/plain": [
       "0.19698915070236428"
      ]
     },
     "execution_count": 25,
     "metadata": {},
     "output_type": "execute_result"
    }
   ],
   "source": [
    "np.std(df_crime_census['Owner Occupied Prop'])"
   ]
  },
  {
   "cell_type": "code",
   "execution_count": 26,
   "metadata": {},
   "outputs": [
    {
     "data": {
      "text/plain": [
       "<matplotlib.collections.PathCollection at 0x1101b42e8>"
      ]
     },
     "execution_count": 26,
     "metadata": {},
     "output_type": "execute_result"
    },
    {
     "data": {
      "image/png": "[encoded data removed]",
      "text/plain": [
       "<Figure size 432x288 with 1 Axes>"
      ]
     },
     "metadata": {},
     "output_type": "display_data"
    }
   ],
   "source": [
    "x = list(df_crime_census['Owner Occupied Prop'])\n",
    "plt.xlabel('Owner Occupied Proportion', fontsize=16)\n",
    "plt.ylabel('Crime Rate', fontsize=16)\n",
    "plt.scatter(x,y)"
   ]
  },
  {
   "cell_type": "markdown",
   "metadata": {},
   "source": [
    "## 2.2. Story Telling Summary\n",
    "\n",
    "### The initial exploration above suggests that diversity does play a role in the crime rate of a cities neighborhoods. However, the factor of race, which is often tied to economic means appears less important in Portland than other less talked about factors like the prevalence of children, males, and owner occupied homes. \n",
    "\n",
    "### Clearly, some formal statistical analysis needs to be done to provide evidence for or against our initial observations. Moreover,  there is a lot more data which may also shed some light on crime in Portland. One which is likely of some importance is geographic area per household. Everyone needs some space and if that is not available, especially for people living in neighborhoods with other risk factors for crime, stress levels will be elevated and could contribute to the increase in crime. \n",
    "\n",
    "### Another important factor to be consideres is that of the types of crimes, i.e. violent vs non-violent and general theft and the more subtle crimes involving fraud. These too will be looked at more closely through a statistical lense."
   ]
  },
  {
   "cell_type": "code",
   "execution_count": null,
   "metadata": {},
   "outputs": [],
   "source": []
  }
 ],
 "metadata": {
  "kernelspec": {
   "display_name": "Python 3",
   "language": "python",
   "name": "python3"
  },
  "language_info": {
   "codemirror_mode": {
    "name": "ipython",
    "version": 3
   },
   "file_extension": ".py",
   "mimetype": "text/x-python",
   "name": "python",
   "nbconvert_exporter": "python",
   "pygments_lexer": "ipython3",
   "version": "3.6.5"
  }
 },
 "nbformat": 4,
 "nbformat_minor": 2
}
